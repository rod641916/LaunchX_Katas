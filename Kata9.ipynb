{
 "cells": [
  {
   "cell_type": "markdown",
   "metadata": {},
   "source": [
    "# Ejercicio 1"
   ]
  },
  {
   "cell_type": "code",
   "execution_count": null,
   "metadata": {},
   "outputs": [],
   "source": [
    "def promedio(values):\n",
    "    total = sum(values)\n",
    "    number_of_items = len(values)\n",
    "    return total / number_of_items\n",
    "\n",
    "def informe( tanque1,tanque2,tanque3):\n",
    "    resultado= promedio([tanque1,tanque2,tanque3])\n",
    "\n",
    "    return (f\"\"\"Reporte de combustible:\n",
    "            Combustible total: {resultado}%\n",
    "            Tanque 1: {tanque1}\n",
    "            Tanque 2: {tanque2}\n",
    "            Tanque 3: {tanque3}\"\"\")\n",
    "\n",
    "print(informe(80,85,76))"
   ]
  },
  {
   "cell_type": "markdown",
   "metadata": {},
   "source": [
    "# Ejercicio 2"
   ]
  },
  {
   "cell_type": "code",
   "execution_count": 11,
   "metadata": {},
   "outputs": [
    {
     "name": "stdout",
     "output_type": "stream",
     "text": [
      "\n",
      "    Reporte de Moon\n",
      "    \n",
      "    Total de combustible: 385972 \n",
      "\n",
      "    Timpo del viaje: 136 minutos\n",
      "\n",
      "    Tanque externo: 752 litros\n",
      "\n",
      "    Tanque interno: 385220 litros\n",
      "    \n"
     ]
    }
   ],
   "source": [
    "def reporte_mision(prelanzamiento, tiempo_vuelo, destino, tanque_externo, tanque_interno):\n",
    "    \n",
    "    return f\"\"\"\n",
    "    Reporte de {destino}\n",
    "    \n",
    "    Total de combustible: {tanque_externo + tanque_interno} \n",
    "\n",
    "    Timpo del viaje: {prelanzamiento + tiempo_vuelo} minutos\n",
    "\n",
    "    Tanque externo: {tanque_externo} litros\n",
    "\n",
    "    Tanque interno: {tanque_interno} litros\n",
    "    \"\"\"\n",
    "\n",
    "print(reporte_mision(85, 51, \"Moon\", 752, 385220))"
   ]
  }
 ],
 "metadata": {
  "interpreter": {
   "hash": "9a40a8c90788aa8c67c772331b221cc283f52ae33dfea325d8c15eb865b2b2f3"
  },
  "kernelspec": {
   "display_name": "Python 3.10.2 64-bit",
   "language": "python",
   "name": "python3"
  },
  "language_info": {
   "codemirror_mode": {
    "name": "ipython",
    "version": 3
   },
   "file_extension": ".py",
   "mimetype": "text/x-python",
   "name": "python",
   "nbconvert_exporter": "python",
   "pygments_lexer": "ipython3",
   "version": "3.10.2"
  },
  "orig_nbformat": 4
 },
 "nbformat": 4,
 "nbformat_minor": 2
}
