{
 "cells": [
  {
   "cell_type": "markdown",
   "metadata": {},
   "source": [
    "# Problema 1"
   ]
  },
  {
   "cell_type": "code",
   "execution_count": 2,
   "metadata": {},
   "outputs": [
    {
     "name": "stdout",
     "output_type": "stream",
     "text": [
      "Asteroide se impactara en la tierra\n"
     ]
    }
   ],
   "source": [
    "velocidad = 49\n",
    "\n",
    "if velocidad > 25:\n",
    "    print (\"Asteroide se impactara en la tierra\")\n",
    "\n",
    "else:\n",
    "    print (\"Estamos a salvo\")\n"
   ]
  },
  {
   "cell_type": "markdown",
   "metadata": {},
   "source": [
    "# Problema 2"
   ]
  },
  {
   "cell_type": "code",
   "execution_count": 6,
   "metadata": {},
   "outputs": [
    {
     "name": "stdout",
     "output_type": "stream",
     "text": [
      "Ve la luz en el cielo\n"
     ]
    }
   ],
   "source": [
    "asteroide = 25\n",
    "\n",
    "if asteroide > 20:\n",
    "    print (\"Ve la luz en el cielo\")\n",
    "elif asteroide==20:\n",
    "    print (\"Ve la luz en el cielo\")\n",
    "else:\n",
    "    print (\"No hay nada\")"
   ]
  },
  {
   "cell_type": "markdown",
   "metadata": {},
   "source": [
    "# Problema 3"
   ]
  },
  {
   "cell_type": "code",
   "execution_count": 8,
   "metadata": {},
   "outputs": [
    {
     "name": "stdout",
     "output_type": "stream",
     "text": [
      "Se va a estrellar\n"
     ]
    }
   ],
   "source": [
    "velocidad=25\n",
    "dimension=25\n",
    "\n",
    "if velocidad > 25 and dimension >25:\n",
    "    print (\"Se va a estrellar\")\n",
    "elif velocidad >=25 :\n",
    "        print (\"Se va a estrellar\")\n",
    "elif dimension <25:\n",
    "    print(\"Estamos a salvo\")\n",
    "else:\n",
    "    print(\"Estamos a salvo\")\n"
   ]
  }
 ],
 "metadata": {
  "interpreter": {
   "hash": "9a40a8c90788aa8c67c772331b221cc283f52ae33dfea325d8c15eb865b2b2f3"
  },
  "kernelspec": {
   "display_name": "Python 3.10.2 64-bit",
   "language": "python",
   "name": "python3"
  },
  "language_info": {
   "codemirror_mode": {
    "name": "ipython",
    "version": 3
   },
   "file_extension": ".py",
   "mimetype": "text/x-python",
   "name": "python",
   "nbconvert_exporter": "python",
   "pygments_lexer": "ipython3",
   "version": "3.10.2"
  },
  "orig_nbformat": 4
 },
 "nbformat": 4,
 "nbformat_minor": 2
}
