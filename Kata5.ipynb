{
 "cells": [
  {
   "cell_type": "markdown",
   "metadata": {},
   "source": [
    "# Ejercicio 1"
   ]
  },
  {
   "cell_type": "code",
   "execution_count": 6,
   "metadata": {},
   "outputs": [
    {
     "name": "stdout",
     "output_type": "stream",
     "text": [
      "628949330\n",
      "390577533.93\n"
     ]
    }
   ],
   "source": [
    "jupiter= 778547200\n",
    "tierra= 149597870\n",
    "\n",
    "distanciaKilometros = jupiter-tierra\n",
    "distanciaMillas = (jupiter-tierra) * 0.621 \n",
    "\n",
    "print (distanciaKilometros)\n",
    "print (distanciaMillas)"
   ]
  },
  {
   "cell_type": "markdown",
   "metadata": {},
   "source": [
    "# Ejercicio 2"
   ]
  },
  {
   "cell_type": "code",
   "execution_count": 13,
   "metadata": {},
   "outputs": [
    {
     "name": "stdout",
     "output_type": "stream",
     "text": [
      "Distancia en kilometros: 5\n",
      "Distancia en millas: 3.105\n"
     ]
    }
   ],
   "source": [
    "planeta1 = input (\"Ingresa la distancia al sol del primer planeta\")\n",
    "planeta2 = input (\"Ingresa la distancia al sol del segundo planeta\")\n",
    "\n",
    "planeta1=int(planeta1)\n",
    "planeta2=int(planeta2)\n",
    "\n",
    "calculo= planeta2-planeta1\n",
    "\n",
    "print (\"Distancia en kilometros:\",(abs(calculo)))\n",
    "print (\"Distancia en millas:\",(abs(calculo*0.621)))"
   ]
  }
 ],
 "metadata": {
  "interpreter": {
   "hash": "9a40a8c90788aa8c67c772331b221cc283f52ae33dfea325d8c15eb865b2b2f3"
  },
  "kernelspec": {
   "display_name": "Python 3.10.2 64-bit",
   "language": "python",
   "name": "python3"
  },
  "language_info": {
   "codemirror_mode": {
    "name": "ipython",
    "version": 3
   },
   "file_extension": ".py",
   "mimetype": "text/x-python",
   "name": "python",
   "nbconvert_exporter": "python",
   "pygments_lexer": "ipython3",
   "version": "3.10.2"
  },
  "orig_nbformat": 4
 },
 "nbformat": 4,
 "nbformat_minor": 2
}
